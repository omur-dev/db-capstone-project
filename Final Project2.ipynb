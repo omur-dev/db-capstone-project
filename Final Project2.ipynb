{
 "cells": [
  {
   "cell_type": "code",
   "execution_count": 18,
   "id": "a9f8673a-a4be-4ee5-9863-7570c1d7d2ef",
   "metadata": {},
   "outputs": [],
   "source": [
    "# Import MySQL Connector/Python \n",
    "import mysql.connector as connector\n",
    "connection=connector.connect(username = \"root\", password = \"little_lemon\")"
   ]
  },
  {
   "cell_type": "code",
   "execution_count": 19,
   "id": "b976af5a-d521-45a9-a1d2-7112390b811d",
   "metadata": {},
   "outputs": [
    {
     "name": "stdout",
     "output_type": "stream",
     "text": [
      "Cursor is created to communicate with the MySQL using Python.\n"
     ]
    }
   ],
   "source": [
    "# Create cursor object to communicate with entire MySQL database\n",
    "cursor = connection.cursor()\n",
    "print(\"Cursor is created to communicate with the MySQL using Python.\")"
   ]
  },
  {
   "cell_type": "code",
   "execution_count": 20,
   "id": "dc19267e-b640-4686-b220-8569e96d890f",
   "metadata": {},
   "outputs": [
    {
     "name": "stdout",
     "output_type": "stream",
     "text": [
      "The database little_lemon is set for use.\n"
     ]
    }
   ],
   "source": [
    "# Set little_lemon database for use \n",
    "cursor.execute(\"USE littlelemondb\")\n",
    "print(\"The database little_lemon is set for use.\")"
   ]
  },
  {
   "cell_type": "code",
   "execution_count": 21,
   "id": "9dcb8d7e-9349-4049-ba2a-f97335f1c273",
   "metadata": {},
   "outputs": [
    {
     "name": "stdout",
     "output_type": "stream",
     "text": [
      "[('bookings',), ('customer',), ('customwerswithordersgreaterthan150',), ('menu',), ('menuitems',), ('menuswithmorethan2',), ('odersview',), ('orderdeliverystatus',), ('orders',), ('staff',)]\n"
     ]
    }
   ],
   "source": [
    "# Show all the tables in the databases\n",
    "show_tables_query = \"SHOW TABLES;\"\n",
    "cursor.execute(show_tables_query);\n",
    "results = cursor.fetchall();\n",
    "print(results);\n"
   ]
  },
  {
   "cell_type": "code",
   "execution_count": 23,
   "id": "21c45b70-2656-40f7-ace5-ba611da35d7d",
   "metadata": {},
   "outputs": [
    {
     "name": "stdout",
     "output_type": "stream",
     "text": [
      "The following Customers have orders that exceed $60\n",
      "('FullName', 'ContactNumber', 'TotalCost')\n",
      "('Sarah Marshall', '414-230-2220', Decimal('67'))\n",
      "('Rain Mann', '800-230-2345', Decimal('194'))\n"
     ]
    }
   ],
   "source": [
    "customer_query = \"\"\"   SELECT CustomerName as FullName,\n",
    "                \t   ContactNumber,\n",
    "                       TotalCost\n",
    "                FROM Orders O\n",
    "                JOIN Customer C on O.CustomerID = C.CustomerID\n",
    "                WHERE TotalCost > 60   \"\"\"\n",
    "cursor.execute(customer_query)\n",
    "results = cursor.fetchall()\n",
    "\n",
    "print(\"The following Customers have orders that exceed $60\") \n",
    "columns=cursor.column_names\n",
    "print(columns)\n",
    "for result in results:\n",
    "    print(result)\n",
    "\n",
    "\n",
    "\n",
    "\n"
   ]
  },
  {
   "cell_type": "code",
   "execution_count": null,
   "id": "91cc530f-873e-40ae-a102-519e7816db61",
   "metadata": {},
   "outputs": [],
   "source": []
  }
 ],
 "metadata": {
  "kernelspec": {
   "display_name": "Python 3 (ipykernel)",
   "language": "python",
   "name": "python3"
  },
  "language_info": {
   "codemirror_mode": {
    "name": "ipython",
    "version": 3
   },
   "file_extension": ".py",
   "mimetype": "text/x-python",
   "name": "python",
   "nbconvert_exporter": "python",
   "pygments_lexer": "ipython3",
   "version": "3.11.4"
  }
 },
 "nbformat": 4,
 "nbformat_minor": 5
}
